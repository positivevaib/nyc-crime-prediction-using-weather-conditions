{
 "cells": [
  {
   "cell_type": "code",
   "execution_count": 890,
   "metadata": {},
   "outputs": [],
   "source": [
    "import copy\n",
    "\n",
    "import matplotlib.pyplot as plt\n",
    "import numpy as np\n",
    "import os\n",
    "from sklearn import ensemble, linear_model, tree\n",
    "from sklearn.metrics import mean_squared_error, r2_score\n",
    "import statsmodels.api as sm"
   ]
  },
  {
   "cell_type": "markdown",
   "metadata": {},
   "source": [
    "# all"
   ]
  },
  {
   "cell_type": "code",
   "execution_count": 939,
   "metadata": {},
   "outputs": [],
   "source": [
    "all_data = ''\n",
    "for file in os.listdir('../data/profiling/all'):\n",
    "    if file.startswith('part-'):\n",
    "        all_data += open('../data/profiling/all/' + file, 'r').read()\n",
    "        \n",
    "all_data = all_data[:len(all_data) - 1]"
   ]
  },
  {
   "cell_type": "code",
   "execution_count": 940,
   "metadata": {},
   "outputs": [],
   "source": [
    "weather = []\n",
    "crimes = []\n",
    "\n",
    "all_data = all_data.split('\\n')\n",
    "for data in all_data:\n",
    "    data = data.split(',')\n",
    "    # linear\n",
    "    #weather.append([int(data[0]), int(data[1]), int(data[2]), int(data[3]), int(data[4])])\n",
    "    \n",
    "    # quadratic\n",
    "    weather.append([int(data[0]), int(data[0])**2, int(data[1]), int(data[2]), int(data[3]), int(data[4]), int(data[4])**2])\n",
    "    \n",
    "    # only temp and humidity\n",
    "    #weather.append([int(data[0]), int(data[0])**2, int(data[4]), int(data[4])**2])\n",
    "\n",
    "    crimes.append(int(data[5]))\n",
    "    \n",
    "\n",
    "p = np.random.permutation(len(weather))\n",
    "weather = np.array(weather)[p]\n",
    "crimes = np.array(crimes)[p]"
   ]
  },
  {
   "cell_type": "code",
   "execution_count": 941,
   "metadata": {},
   "outputs": [],
   "source": [
    "train_x = weather[:-int(0.2*len(weather))]\n",
    "train_y = crimes[:-int(0.2*len(crimes))]"
   ]
  },
  {
   "cell_type": "code",
   "execution_count": 942,
   "metadata": {},
   "outputs": [],
   "source": [
    "test_x = weather[-int(0.2*len(weather)):]\n",
    "test_y = crimes[-int(0.2*len(crimes)):]"
   ]
  },
  {
   "cell_type": "markdown",
   "metadata": {},
   "source": [
    "## model"
   ]
  },
  {
   "cell_type": "markdown",
   "metadata": {},
   "source": [
    "### lr"
   ]
  },
  {
   "cell_type": "code",
   "execution_count": 928,
   "metadata": {},
   "outputs": [],
   "source": [
    "lr = linear_model.LinearRegression()"
   ]
  },
  {
   "cell_type": "code",
   "execution_count": 929,
   "metadata": {},
   "outputs": [
    {
     "data": {
      "text/plain": [
       "LinearRegression(copy_X=True, fit_intercept=True, n_jobs=None, normalize=False)"
      ]
     },
     "execution_count": 929,
     "metadata": {},
     "output_type": "execute_result"
    }
   ],
   "source": [
    "lr.fit(train_x, train_y)"
   ]
  },
  {
   "cell_type": "code",
   "execution_count": 930,
   "metadata": {
    "scrolled": true
   },
   "outputs": [
    {
     "name": "stdout",
     "output_type": "stream",
     "text": [
      "mse: 2980915.3541210745\n",
      "r2: 0.295696869986948\n"
     ]
    }
   ],
   "source": [
    "preds = lr.predict(test_x)\n",
    "print('mse:', mean_squared_error(test_y, preds))\n",
    "print('r2:', r2_score(test_y, preds))"
   ]
  },
  {
   "cell_type": "code",
   "execution_count": 931,
   "metadata": {},
   "outputs": [
    {
     "data": {
      "text/plain": [
       "array([2272.60083408])"
      ]
     },
     "execution_count": 931,
     "metadata": {},
     "output_type": "execute_result"
    }
   ],
   "source": [
    "X = np.array([48, 48*48, 0, 0, 0, 92, 92*92]).reshape(1, 7)\n",
    "\n",
    "lr.predict(X)"
   ]
  },
  {
   "cell_type": "markdown",
   "metadata": {},
   "source": [
    "### decision tree"
   ]
  },
  {
   "cell_type": "code",
   "execution_count": 943,
   "metadata": {},
   "outputs": [],
   "source": [
    "dt = tree.DecisionTreeRegressor(max_depth=9)"
   ]
  },
  {
   "cell_type": "code",
   "execution_count": 944,
   "metadata": {},
   "outputs": [
    {
     "data": {
      "text/plain": [
       "DecisionTreeRegressor(ccp_alpha=0.0, criterion='mse', max_depth=9,\n",
       "                      max_features=None, max_leaf_nodes=None,\n",
       "                      min_impurity_decrease=0.0, min_impurity_split=None,\n",
       "                      min_samples_leaf=1, min_samples_split=2,\n",
       "                      min_weight_fraction_leaf=0.0, presort='deprecated',\n",
       "                      random_state=None, splitter='best')"
      ]
     },
     "execution_count": 944,
     "metadata": {},
     "output_type": "execute_result"
    }
   ],
   "source": [
    "dt.fit(train_x, train_y)"
   ]
  },
  {
   "cell_type": "code",
   "execution_count": 946,
   "metadata": {},
   "outputs": [
    {
     "data": {
      "text/plain": [
       "0.4155670233259825"
      ]
     },
     "execution_count": 946,
     "metadata": {},
     "output_type": "execute_result"
    }
   ],
   "source": [
    "dt.score(test_x, test_y)"
   ]
  },
  {
   "cell_type": "markdown",
   "metadata": {},
   "source": [
    "### random forest"
   ]
  },
  {
   "cell_type": "code",
   "execution_count": 947,
   "metadata": {},
   "outputs": [],
   "source": [
    "rf = ensemble.RandomForestRegressor(max_depth=10)"
   ]
  },
  {
   "cell_type": "code",
   "execution_count": 948,
   "metadata": {
    "scrolled": true
   },
   "outputs": [
    {
     "data": {
      "text/plain": [
       "RandomForestRegressor(bootstrap=True, ccp_alpha=0.0, criterion='mse',\n",
       "                      max_depth=10, max_features='auto', max_leaf_nodes=None,\n",
       "                      max_samples=None, min_impurity_decrease=0.0,\n",
       "                      min_impurity_split=None, min_samples_leaf=1,\n",
       "                      min_samples_split=2, min_weight_fraction_leaf=0.0,\n",
       "                      n_estimators=100, n_jobs=None, oob_score=False,\n",
       "                      random_state=None, verbose=0, warm_start=False)"
      ]
     },
     "execution_count": 948,
     "metadata": {},
     "output_type": "execute_result"
    }
   ],
   "source": [
    "rf.fit(train_x, train_y)"
   ]
  },
  {
   "cell_type": "code",
   "execution_count": 949,
   "metadata": {},
   "outputs": [
    {
     "data": {
      "text/plain": [
       "0.4662968480697928"
      ]
     },
     "execution_count": 949,
     "metadata": {},
     "output_type": "execute_result"
    }
   ],
   "source": [
    "rf.score(test_x, test_y)"
   ]
  },
  {
   "cell_type": "markdown",
   "metadata": {},
   "source": [
    "# temperature"
   ]
  },
  {
   "cell_type": "code",
   "execution_count": 912,
   "metadata": {},
   "outputs": [],
   "source": [
    "temp_data = ''\n",
    "for file in os.listdir('../data/profiling/temperature'):\n",
    "    if file.startswith('part-'):\n",
    "        temp_data += open('../data/profiling/temperature/' + file, 'r').read()\n",
    "        \n",
    "temp_data = temp_data[:len(temp_data) - 1]"
   ]
  },
  {
   "cell_type": "code",
   "execution_count": 913,
   "metadata": {},
   "outputs": [],
   "source": [
    "temps = []\n",
    "crimes = []\n",
    "\n",
    "temp_data = temp_data.split('\\n')\n",
    "for data in temp_data:\n",
    "    data = data.split(',')\n",
    "    temps.append(int(data[0]))\n",
    "    crimes.append(int(data[1]))\n",
    "    \n",
    "# quadratic\n",
    "\n",
    "temps_orig = copy.deepcopy(temps)\n",
    "\n",
    "for i in range(len(temps)):\n",
    "    temps[i] = [temps[i], temps[i]**2]\n",
    "    \n",
    "p = np.random.permutation(len(temps))\n",
    "temps_orig = np.array(temps_orig)[p]\n",
    "temps = np.array(temps)[p]\n",
    "crimes = np.array(crimes)[p]"
   ]
  },
  {
   "cell_type": "code",
   "execution_count": 914,
   "metadata": {
    "scrolled": true
   },
   "outputs": [
    {
     "data": {
      "text/plain": [
       "[<matplotlib.lines.Line2D at 0x12aeb6290>]"
      ]
     },
     "execution_count": 914,
     "metadata": {},
     "output_type": "execute_result"
    },
    {
     "data": {
      "image/png": "[encoded data removed]",
      "text/plain": [
       "<Figure size 432x288 with 1 Axes>"
      ]
     },
     "metadata": {
      "needs_background": "light"
     },
     "output_type": "display_data"
    }
   ],
   "source": [
    "plt.plot(temps_orig, crimes, 'bo')"
   ]
  },
  {
   "cell_type": "markdown",
   "metadata": {},
   "source": [
    "## model"
   ]
  },
  {
   "cell_type": "markdown",
   "metadata": {},
   "source": [
    "### linear"
   ]
  },
  {
   "cell_type": "code",
   "execution_count": 820,
   "metadata": {},
   "outputs": [],
   "source": [
    "train_x = temps[:-int(0.2*len(temps))].reshape(-1, 1)\n",
    "train_y = crimes[:-int(0.2*len(crimes))]"
   ]
  },
  {
   "cell_type": "code",
   "execution_count": 821,
   "metadata": {},
   "outputs": [],
   "source": [
    "test_x = temps[-int(0.2*len(temps)):].reshape(-1, 1)\n",
    "test_y = crimes[-int(0.2*len(crimes)):]"
   ]
  },
  {
   "cell_type": "markdown",
   "metadata": {},
   "source": [
    "### quadratic"
   ]
  },
  {
   "cell_type": "code",
   "execution_count": 915,
   "metadata": {},
   "outputs": [],
   "source": [
    "train_x = temps[:-int(0.2*len(temps))]\n",
    "train_y = crimes[:-int(0.2*len(crimes))]"
   ]
  },
  {
   "cell_type": "code",
   "execution_count": 916,
   "metadata": {},
   "outputs": [],
   "source": [
    "test_x = temps[-int(0.2*len(temps)):]\n",
    "test_y = crimes[-int(0.2*len(crimes)):]"
   ]
  },
  {
   "cell_type": "code",
   "execution_count": 917,
   "metadata": {},
   "outputs": [],
   "source": [
    "lr = linear_model.LinearRegression()"
   ]
  },
  {
   "cell_type": "code",
   "execution_count": 918,
   "metadata": {},
   "outputs": [
    {
     "data": {
      "text/plain": [
       "LinearRegression(copy_X=True, fit_intercept=True, n_jobs=None, normalize=False)"
      ]
     },
     "execution_count": 918,
     "metadata": {},
     "output_type": "execute_result"
    }
   ],
   "source": [
    "lr.fit(train_x, train_y)"
   ]
  },
  {
   "cell_type": "code",
   "execution_count": 919,
   "metadata": {
    "scrolled": true
   },
   "outputs": [
    {
     "data": {
      "text/plain": [
       "0.5708874250369762"
      ]
     },
     "execution_count": 919,
     "metadata": {},
     "output_type": "execute_result"
    }
   ],
   "source": [
    "preds = lr.predict(test_x)\n",
    "r2_score(test_y, preds)"
   ]
  },
  {
   "cell_type": "code",
   "execution_count": 920,
   "metadata": {},
   "outputs": [
    {
     "data": {
      "text/plain": [
       "array([97049.61499585])"
      ]
     },
     "execution_count": 920,
     "metadata": {},
     "output_type": "execute_result"
    }
   ],
   "source": [
    "X = np.array([48, 48*48]).reshape(1, 2)\n",
    "lr.predict(X)"
   ]
  },
  {
   "cell_type": "code",
   "execution_count": 922,
   "metadata": {
    "scrolled": true
   },
   "outputs": [
    {
     "data": {
      "image/png": "[encoded data removed]",
      "text/plain": [
       "<Figure size 432x288 with 1 Axes>"
      ]
     },
     "metadata": {},
     "output_type": "display_data"
    }
   ],
   "source": [
    "test_x = temps_orig[-int(0.2*len(temps_orig)):].reshape(-1, 1)\n",
    "test_y = crimes[-int(0.2*len(crimes)):]\n",
    "\n",
    "plt.scatter(test_x, test_y,  color='black')\n",
    "plt.scatter(test_x, preds, color='blue')\n",
    "\n",
    "plt.xticks(())\n",
    "plt.yticks(())\n",
    "\n",
    "plt.show()"
   ]
  },
  {
   "cell_type": "code",
   "execution_count": 365,
   "metadata": {
    "scrolled": false
   },
   "outputs": [
    {
     "name": "stdout",
     "output_type": "stream",
     "text": [
      "                            OLS Regression Results                            \n",
      "==============================================================================\n",
      "Dep. Variable:                      y   R-squared:                       0.498\n",
      "Model:                            OLS   Adj. R-squared:                  0.486\n",
      "Method:                 Least Squares   F-statistic:                     39.75\n",
      "Date:                Fri, 24 Apr 2020   Prob (F-statistic):           1.03e-12\n",
      "Time:                        18:14:21   Log-Likelihood:                -994.83\n",
      "No. Observations:                  83   AIC:                             1996.\n",
      "Df Residuals:                      80   BIC:                             2003.\n",
      "Df Model:                           2                                         \n",
      "Covariance Type:            nonrobust                                         \n",
      "==============================================================================\n",
      "                 coef    std err          t      P>|t|      [0.025      0.975]\n",
      "------------------------------------------------------------------------------\n",
      "const      -4.527e+04   1.23e+04     -3.669      0.000   -6.98e+04   -2.07e+04\n",
      "x1          5116.3521    595.305      8.595      0.000    3931.657    6301.047\n",
      "x2           -45.4906      5.884     -7.732      0.000     -57.200     -33.782\n",
      "==============================================================================\n",
      "Omnibus:                        7.941   Durbin-Watson:                   1.620\n",
      "Prob(Omnibus):                  0.019   Jarque-Bera (JB):                8.459\n",
      "Skew:                           0.770   Prob(JB):                       0.0146\n",
      "Kurtosis:                       2.722   Cond. No.                     1.23e+04\n",
      "==============================================================================\n",
      "\n",
      "Warnings:\n",
      "[1] Standard Errors assume that the covariance matrix of the errors is correctly specified.\n",
      "[2] The condition number is large, 1.23e+04. This might indicate that there are\n",
      "strong multicollinearity or other numerical problems.\n"
     ]
    }
   ],
   "source": [
    "X2 = sm.add_constant(train_x)\n",
    "est = sm.OLS(train_y, X2)\n",
    "est2 = est.fit()\n",
    "print(est2.summary())"
   ]
  },
  {
   "cell_type": "markdown",
   "metadata": {},
   "source": [
    "# temperature bins"
   ]
  },
  {
   "cell_type": "code",
   "execution_count": 385,
   "metadata": {},
   "outputs": [],
   "source": [
    "temp_bins = []\n",
    "for t in temps:\n",
    "    new_t = (t + 5) // 10 * 10\n",
    "    if new_t not in temp_bins:\n",
    "        temp_bins.append(new_t)\n",
    "\n",
    "temp_bins.sort()\n",
    "    \n",
    "crime_bins = [0 for t in temp_bins]\n",
    "for i in range(len(crimes)):\n",
    "    crime_bins[(temps[i] + 5) // 10] += crimes[i]"
   ]
  },
  {
   "cell_type": "code",
   "execution_count": 387,
   "metadata": {},
   "outputs": [
    {
     "data": {
      "text/plain": [
       "[<matplotlib.lines.Line2D at 0x11ef74050>]"
      ]
     },
     "execution_count": 387,
     "metadata": {},
     "output_type": "execute_result"
    },
    {
     "data": {
      "image/png": "[encoded data removed]",
      "text/plain": [
       "<Figure size 432x288 with 1 Axes>"
      ]
     },
     "metadata": {
      "needs_background": "light"
     },
     "output_type": "display_data"
    }
   ],
   "source": [
    "plt.plot(temp_bins, crime_bins, 'bo')"
   ]
  },
  {
   "cell_type": "markdown",
   "metadata": {},
   "source": [
    "## model"
   ]
  },
  {
   "cell_type": "markdown",
   "metadata": {},
   "source": [
    "### linear"
   ]
  },
  {
   "cell_type": "code",
   "execution_count": 402,
   "metadata": {},
   "outputs": [],
   "source": [
    "train_x = np.array(temp_bins[:-int(0.2*len(temp_bins))]).reshape(-1, 1)\n",
    "train_y = crime_bins[:-int(0.2*len(crime_bins))]"
   ]
  },
  {
   "cell_type": "code",
   "execution_count": 403,
   "metadata": {},
   "outputs": [],
   "source": [
    "test_x = np.array(temp_bins[-int(0.2*len(temp_bins)):]).reshape(-1, 1)\n",
    "test_y = crime_bins[-int(0.2*len(crime_bins)):]"
   ]
  },
  {
   "cell_type": "markdown",
   "metadata": {},
   "source": [
    "### quadratic"
   ]
  },
  {
   "cell_type": "code",
   "execution_count": 410,
   "metadata": {},
   "outputs": [],
   "source": [
    "train_x = temp_bins[:-int(0.2*len(temp_bins))]\n",
    "for i in range(len(train_x)):\n",
    "    train_x[i] = [train_x[i], train_x[i]**2]\n",
    "train_x = np.array(train_x)\n",
    "\n",
    "train_y = crime_bins[:-int(0.2*len(crime_bins))]"
   ]
  },
  {
   "cell_type": "code",
   "execution_count": 411,
   "metadata": {},
   "outputs": [],
   "source": [
    "test_x = temp_bins[-int(0.2*len(temp_bins)):]\n",
    "for i in range(len(test_x)):\n",
    "    test_x[i] = [test_x[i], test_x[i]**2]\n",
    "test_x = np.array(test_x)\n",
    "\n",
    "test_y = crime_bins[-int(0.2*len(crime_bins)):]"
   ]
  },
  {
   "cell_type": "code",
   "execution_count": 413,
   "metadata": {},
   "outputs": [],
   "source": [
    "lr = linear_model.LinearRegression()"
   ]
  },
  {
   "cell_type": "code",
   "execution_count": 414,
   "metadata": {},
   "outputs": [
    {
     "data": {
      "text/plain": [
       "LinearRegression(copy_X=True, fit_intercept=True, n_jobs=None, normalize=False)"
      ]
     },
     "execution_count": 414,
     "metadata": {},
     "output_type": "execute_result"
    }
   ],
   "source": [
    "lr.fit(train_x, train_y)"
   ]
  },
  {
   "cell_type": "code",
   "execution_count": 415,
   "metadata": {
    "scrolled": true
   },
   "outputs": [
    {
     "data": {
      "text/plain": [
       "-116.29084414797498"
      ]
     },
     "execution_count": 415,
     "metadata": {},
     "output_type": "execute_result"
    }
   ],
   "source": [
    "preds = lr.predict(test_x)\n",
    "r2_score(test_y, preds)"
   ]
  },
  {
   "cell_type": "code",
   "execution_count": 416,
   "metadata": {
    "scrolled": true
   },
   "outputs": [
    {
     "data": {
      "image/png": "[encoded data removed]",
      "text/plain": [
       "<Figure size 432x288 with 1 Axes>"
      ]
     },
     "metadata": {},
     "output_type": "display_data"
    }
   ],
   "source": [
    "test_x = np.array(temp_bins[-int(0.2*len(temp_bins)):]).reshape(-1, 1)\n",
    "test_y = crime_bins[-int(0.2*len(crime_bins)):]\n",
    "\n",
    "plt.scatter(test_x, test_y,  color='black')\n",
    "plt.scatter(test_x, preds, color='blue')\n",
    "\n",
    "plt.xticks(())\n",
    "plt.yticks(())\n",
    "\n",
    "plt.show()"
   ]
  },
  {
   "cell_type": "code",
   "execution_count": 417,
   "metadata": {
    "scrolled": false
   },
   "outputs": [
    {
     "name": "stdout",
     "output_type": "stream",
     "text": [
      "                            OLS Regression Results                            \n",
      "==============================================================================\n",
      "Dep. Variable:                      y   R-squared:                       0.907\n",
      "Model:                            OLS   Adj. R-squared:                  0.876\n",
      "Method:                 Least Squares   F-statistic:                     29.27\n",
      "Date:                Fri, 24 Apr 2020   Prob (F-statistic):           0.000803\n",
      "Time:                        18:22:11   Log-Likelihood:                -119.18\n",
      "No. Observations:                   9   AIC:                             244.4\n",
      "Df Residuals:                       6   BIC:                             245.0\n",
      "Df Model:                           2                                         \n",
      "Covariance Type:            nonrobust                                         \n",
      "==============================================================================\n",
      "                 coef    std err          t      P>|t|      [0.025      0.975]\n",
      "------------------------------------------------------------------------------\n",
      "const      -1.883e+05   1.36e+05     -1.387      0.215   -5.21e+05    1.44e+05\n",
      "x1          3.119e+04   7915.114      3.941      0.008    1.18e+04    5.06e+04\n",
      "x2          -190.7992     95.195     -2.004      0.092    -423.733      42.134\n",
      "==============================================================================\n",
      "Omnibus:                        1.463   Durbin-Watson:                   1.316\n",
      "Prob(Omnibus):                  0.481   Jarque-Bera (JB):                0.803\n",
      "Skew:                          -0.336   Prob(JB):                        0.669\n",
      "Kurtosis:                       1.700   Cond. No.                     7.62e+03\n",
      "==============================================================================\n",
      "\n",
      "Warnings:\n",
      "[1] Standard Errors assume that the covariance matrix of the errors is correctly specified.\n",
      "[2] The condition number is large, 7.62e+03. This might indicate that there are\n",
      "strong multicollinearity or other numerical problems.\n"
     ]
    },
    {
     "name": "stderr",
     "output_type": "stream",
     "text": [
      "/Users/vaibgadodia/.virtualenvs/venv/lib/python3.7/site-packages/scipy/stats/stats.py:1535: UserWarning: kurtosistest only valid for n>=20 ... continuing anyway, n=9\n",
      "  \"anyway, n=%i\" % int(n))\n"
     ]
    }
   ],
   "source": [
    "X2 = sm.add_constant(train_x)\n",
    "est = sm.OLS(train_y, X2)\n",
    "est2 = est.fit()\n",
    "print(est2.summary())"
   ]
  },
  {
   "cell_type": "markdown",
   "metadata": {},
   "source": [
    "# humidity"
   ]
  },
  {
   "cell_type": "code",
   "execution_count": 191,
   "metadata": {},
   "outputs": [],
   "source": [
    "humid_data = ''\n",
    "for file in os.listdir('../data/humidity'):\n",
    "    if file.startswith('part-'):\n",
    "        humid_data += open('../data/humidity/' + file, 'r').read()\n",
    "        \n",
    "humid_data = humid_data[:len(humid_data) - 1]"
   ]
  },
  {
   "cell_type": "code",
   "execution_count": 192,
   "metadata": {},
   "outputs": [],
   "source": [
    "hpercentages = []\n",
    "crimes = []\n",
    "\n",
    "humid_data = humid_data.split('\\n')\n",
    "for data in humid_data:\n",
    "    data = data.split(',')\n",
    "    hpercentages.append(int(data[0]))\n",
    "    crimes.append(int(data[1]))"
   ]
  },
  {
   "cell_type": "code",
   "execution_count": 193,
   "metadata": {
    "scrolled": true
   },
   "outputs": [
    {
     "data": {
      "text/plain": [
       "[<matplotlib.lines.Line2D at 0x119ca2d10>]"
      ]
     },
     "execution_count": 193,
     "metadata": {},
     "output_type": "execute_result"
    },
    {
     "data": {
      "image/png": "[encoded data removed]",
      "text/plain": [
       "<Figure size 432x288 with 1 Axes>"
      ]
     },
     "metadata": {
      "needs_background": "light"
     },
     "output_type": "display_data"
    }
   ],
   "source": [
    "plt.plot(hpercentages, crimes, 'bo')"
   ]
  },
  {
   "cell_type": "markdown",
   "metadata": {},
   "source": [
    "## model"
   ]
  },
  {
   "cell_type": "markdown",
   "metadata": {},
   "source": [
    "### linear"
   ]
  },
  {
   "cell_type": "code",
   "execution_count": 194,
   "metadata": {},
   "outputs": [],
   "source": [
    "train_x = np.array(hpercentages[:-int(0.2*len(hpercentages))]).reshape(-1, 1)\n",
    "train_y = crimes[:-int(0.2*len(crimes))]"
   ]
  },
  {
   "cell_type": "code",
   "execution_count": 195,
   "metadata": {},
   "outputs": [],
   "source": [
    "test_x = np.array(hpercentages[-int(0.2*len(hpercentages)):]).reshape(-1, 1)\n",
    "test_y = crimes[-int(0.2*len(crimes)):]"
   ]
  },
  {
   "cell_type": "markdown",
   "metadata": {},
   "source": [
    "### quadratic"
   ]
  },
  {
   "cell_type": "code",
   "execution_count": 201,
   "metadata": {},
   "outputs": [],
   "source": [
    "train_x = hpercentages[:-int(0.2*len(hpercentages))]\n",
    "for i in range(len(train_x)):\n",
    "    train_x[i] = [train_x[i], train_x[i]**2]\n",
    "train_x = np.array(train_x)\n",
    "\n",
    "train_y = crimes[:-int(0.2*len(crimes))]"
   ]
  },
  {
   "cell_type": "code",
   "execution_count": 202,
   "metadata": {},
   "outputs": [],
   "source": [
    "test_x = hpercentages[-int(0.2*len(hpercentages)):]\n",
    "for i in range(len(test_x)):\n",
    "    test_x[i] = [test_x[i], test_x[i]**2]\n",
    "test_x = np.array(test_x)\n",
    "\n",
    "test_y = crimes[-int(0.2*len(crimes)):]"
   ]
  },
  {
   "cell_type": "code",
   "execution_count": 204,
   "metadata": {},
   "outputs": [],
   "source": [
    "lr = linear_model.LinearRegression()"
   ]
  },
  {
   "cell_type": "code",
   "execution_count": 205,
   "metadata": {},
   "outputs": [
    {
     "data": {
      "text/plain": [
       "LinearRegression(copy_X=True, fit_intercept=True, n_jobs=None, normalize=False)"
      ]
     },
     "execution_count": 205,
     "metadata": {},
     "output_type": "execute_result"
    }
   ],
   "source": [
    "lr.fit(train_x, train_y)"
   ]
  },
  {
   "cell_type": "code",
   "execution_count": 206,
   "metadata": {
    "scrolled": true
   },
   "outputs": [
    {
     "data": {
      "text/plain": [
       "0.6753009643519624"
      ]
     },
     "execution_count": 206,
     "metadata": {},
     "output_type": "execute_result"
    }
   ],
   "source": [
    "preds = lr.predict(test_x)\n",
    "r2_score(test_y, preds)"
   ]
  },
  {
   "cell_type": "code",
   "execution_count": 207,
   "metadata": {
    "scrolled": true
   },
   "outputs": [
    {
     "data": {
      "image/png": "[encoded data removed]",
      "text/plain": [
       "<Figure size 432x288 with 1 Axes>"
      ]
     },
     "metadata": {},
     "output_type": "display_data"
    }
   ],
   "source": [
    "plt.scatter(test_x, test_y,  color='black')\n",
    "plt.scatter(test_x, preds, color='blue')\n",
    "\n",
    "plt.xticks(())\n",
    "plt.yticks(())\n",
    "\n",
    "plt.show()"
   ]
  },
  {
   "cell_type": "markdown",
   "metadata": {},
   "source": [
    "# rain"
   ]
  },
  {
   "cell_type": "code",
   "execution_count": 209,
   "metadata": {},
   "outputs": [],
   "source": [
    "rain_data = ''\n",
    "for file in os.listdir('../data/rain'):\n",
    "    if file.startswith('part-'):\n",
    "        rain_data += open('../data/rain/' + file, 'r').read()\n",
    "        \n",
    "rain_data = rain_data[:len(rain_data) - 1]"
   ]
  },
  {
   "cell_type": "code",
   "execution_count": 210,
   "metadata": {},
   "outputs": [],
   "source": [
    "rain = []\n",
    "crimes = []\n",
    "\n",
    "rain_data = rain_data.split('\\n')\n",
    "for data in rain_data:\n",
    "    data = data.split(',')\n",
    "    rain.append(int(data[0]))\n",
    "    crimes.append(int(data[1]))"
   ]
  },
  {
   "cell_type": "code",
   "execution_count": 56,
   "metadata": {},
   "outputs": [
    {
     "data": {
      "text/plain": [
       "[<matplotlib.lines.Line2D at 0x11659d350>]"
      ]
     },
     "execution_count": 56,
     "metadata": {},
     "output_type": "execute_result"
    },
    {
     "data": {
      "image/png": "[encoded data removed]",
      "text/plain": [
       "<Figure size 432x288 with 1 Axes>"
      ]
     },
     "metadata": {
      "needs_background": "light"
     },
     "output_type": "display_data"
    }
   ],
   "source": [
    "plt.plot(rain, crimes, 'bo')"
   ]
  },
  {
   "cell_type": "markdown",
   "metadata": {},
   "source": [
    "# snow"
   ]
  },
  {
   "cell_type": "code",
   "execution_count": 60,
   "metadata": {},
   "outputs": [],
   "source": [
    "snow_data = ''\n",
    "for file in os.listdir('../data/snow'):\n",
    "    if file.startswith('part-'):\n",
    "        snow_data += open('../data/snow/' + file, 'r').read()\n",
    "        \n",
    "snow_data = snow_data[:len(snow_data) - 1]"
   ]
  },
  {
   "cell_type": "code",
   "execution_count": 61,
   "metadata": {},
   "outputs": [],
   "source": [
    "snow = []\n",
    "crimes = []\n",
    "\n",
    "snow_data = snow_data.split('\\n')\n",
    "for data in snow_data:\n",
    "    data = data.split(',')\n",
    "    snow.append(int(data[0]))\n",
    "    crimes.append(int(data[1]))"
   ]
  },
  {
   "cell_type": "code",
   "execution_count": 62,
   "metadata": {},
   "outputs": [
    {
     "data": {
      "text/plain": [
       "[<matplotlib.lines.Line2D at 0x11665b8d0>]"
      ]
     },
     "execution_count": 62,
     "metadata": {},
     "output_type": "execute_result"
    },
    {
     "data": {
      "image/png": "[encoded data removed]",
      "text/plain": [
       "<Figure size 432x288 with 1 Axes>"
      ]
     },
     "metadata": {
      "needs_background": "light"
     },
     "output_type": "display_data"
    }
   ],
   "source": [
    "plt.plot(snow, crimes, 'bo')"
   ]
  },
  {
   "cell_type": "markdown",
   "metadata": {},
   "source": [
    "# fog"
   ]
  },
  {
   "cell_type": "code",
   "execution_count": 64,
   "metadata": {},
   "outputs": [],
   "source": [
    "fog_data = ''\n",
    "for file in os.listdir('../data/fog'):\n",
    "    if file.startswith('part-'):\n",
    "        fog_data += open('../data/fog/' + file, 'r').read()\n",
    "        \n",
    "fog_data = fog_data[:len(fog_data) - 1]"
   ]
  },
  {
   "cell_type": "code",
   "execution_count": 65,
   "metadata": {},
   "outputs": [],
   "source": [
    "fog = []\n",
    "crimes = []\n",
    "\n",
    "fog_data = fog_data.split('\\n')\n",
    "for data in fog_data:\n",
    "    data = data.split(',')\n",
    "    fog.append(int(data[0]))\n",
    "    crimes.append(int(data[1]))"
   ]
  },
  {
   "cell_type": "code",
   "execution_count": 66,
   "metadata": {},
   "outputs": [
    {
     "data": {
      "text/plain": [
       "[<matplotlib.lines.Line2D at 0x11675e890>]"
      ]
     },
     "execution_count": 66,
     "metadata": {},
     "output_type": "execute_result"
    },
    {
     "data": {
      "image/png": "[encoded data removed]",
      "text/plain": [
       "<Figure size 432x288 with 1 Axes>"
      ]
     },
     "metadata": {
      "needs_background": "light"
     },
     "output_type": "display_data"
    }
   ],
   "source": [
    "plt.plot(fog, crimes, 'bo')"
   ]
  },
  {
   "cell_type": "markdown",
   "metadata": {},
   "source": [
    "# year, month, day, minutes, type, temp, rain, snow, fog, humidity"
   ]
  },
  {
   "cell_type": "code",
   "execution_count": 1152,
   "metadata": {},
   "outputs": [],
   "source": [
    "comp_data = ''\n",
    "for file in os.listdir('../data/profiling/comp'):\n",
    "    if file.startswith('part-'):\n",
    "        comp_data += open('../data/profiling/comp/' + file, 'r').read()\n",
    "        \n",
    "comp_data = comp_data[:len(comp_data) - 1]"
   ]
  },
  {
   "cell_type": "code",
   "execution_count": 1153,
   "metadata": {},
   "outputs": [],
   "source": [
    "yr = 2017\n",
    "rape = 45\n",
    "burg = 3\n",
    "assault = 9"
   ]
  },
  {
   "cell_type": "code",
   "execution_count": 1154,
   "metadata": {},
   "outputs": [],
   "source": [
    "weather = []\n",
    "crimes = []\n",
    "\n",
    "comp_data = comp_data.split('\\n')\n",
    "for data in comp_data:\n",
    "    data = data.split(',')\n",
    "\n",
    "    if int(data[4]) != assault:\n",
    "        continue\n",
    "        \n",
    "    # quadratic\n",
    "    #weather.append([int(data[5]), int(data[5])**2, int(data[6]), int(data[7]), int(data[8]), int(data[9]), int(data[9])**2])\n",
    "    weather.append([int(data[5])])\n",
    "    \n",
    "    crimes.append(int(data[10]))"
   ]
  },
  {
   "cell_type": "code",
   "execution_count": 1155,
   "metadata": {},
   "outputs": [],
   "source": [
    "# isolate ind. features -- optional\n",
    "\n",
    "w_bins = []\n",
    "for w in weather:\n",
    "    w = w[0]\n",
    "    if w not in w_bins:\n",
    "        w_bins.append(w)\n",
    "\n",
    "w_bins.sort()\n",
    "    \n",
    "c_bins = [0 for w in w_bins]\n",
    "for i in range(len(crimes)):\n",
    "    c_bins[w_bins.index(weather[i][0])] += crimes[i]\n",
    "    \n",
    "# quadratic\n",
    "w_bins_orig = copy.deepcopy(w_bins)\n",
    "\n",
    "#for i in range(len(w_bins)):\n",
    "#    w_bins[i] = [w_bins[i], w_bins[i]**2]\n",
    "\n",
    "p = np.random.permutation(len(w_bins))\n",
    "w_bins_orig = np.array(w_bins_orig)[p]\n",
    "w_bins = np.array(w_bins)[p]\n",
    "c_bins = np.array(c_bins)[p]"
   ]
  },
  {
   "cell_type": "code",
   "execution_count": 1156,
   "metadata": {},
   "outputs": [
    {
     "data": {
      "text/plain": [
       "[<matplotlib.lines.Line2D at 0x12d92ec50>]"
      ]
     },
     "execution_count": 1156,
     "metadata": {},
     "output_type": "execute_result"
    },
    {
     "data": {
      "image/png": "[encoded data removed]",
      "text/plain": [
       "<Figure size 432x288 with 1 Axes>"
      ]
     },
     "metadata": {
      "needs_background": "light"
     },
     "output_type": "display_data"
    }
   ],
   "source": [
    "plt.plot(w_bins, c_bins, 'bo')"
   ]
  },
  {
   "cell_type": "code",
   "execution_count": 1157,
   "metadata": {},
   "outputs": [],
   "source": [
    "train_x = w_bins[:-int(0.2*len(w_bins))].reshape(-1, 1)\n",
    "train_y = c_bins[:-int(0.2*len(c_bins))]"
   ]
  },
  {
   "cell_type": "code",
   "execution_count": 1158,
   "metadata": {},
   "outputs": [],
   "source": [
    "test_x = w_bins[-int(0.2*len(w_bins)):].reshape(-1, 1)\n",
    "test_y = c_bins[-int(0.2*len(c_bins)):]"
   ]
  },
  {
   "cell_type": "markdown",
   "metadata": {},
   "source": [
    "## model"
   ]
  },
  {
   "cell_type": "markdown",
   "metadata": {},
   "source": [
    "### lr"
   ]
  },
  {
   "cell_type": "code",
   "execution_count": 1159,
   "metadata": {},
   "outputs": [],
   "source": [
    "lr = linear_model.LinearRegression()"
   ]
  },
  {
   "cell_type": "code",
   "execution_count": 1160,
   "metadata": {},
   "outputs": [
    {
     "data": {
      "text/plain": [
       "LinearRegression(copy_X=True, fit_intercept=True, n_jobs=None, normalize=False)"
      ]
     },
     "execution_count": 1160,
     "metadata": {},
     "output_type": "execute_result"
    }
   ],
   "source": [
    "lr.fit(train_x, train_y)"
   ]
  },
  {
   "cell_type": "code",
   "execution_count": 1161,
   "metadata": {
    "scrolled": true
   },
   "outputs": [
    {
     "name": "stdout",
     "output_type": "stream",
     "text": [
      "mse: 1395808.627675713\n",
      "r2: -0.025088771557409073\n"
     ]
    }
   ],
   "source": [
    "preds = lr.predict(test_x)\n",
    "print('mse:', mean_squared_error(test_y, preds))\n",
    "print('r2:', r2_score(test_y, preds))"
   ]
  },
  {
   "cell_type": "code",
   "execution_count": 1162,
   "metadata": {},
   "outputs": [
    {
     "data": {
      "image/png": "[encoded data removed]",
      "text/plain": [
       "<Figure size 432x288 with 1 Axes>"
      ]
     },
     "metadata": {},
     "output_type": "display_data"
    }
   ],
   "source": [
    "plt.scatter(w_bins_orig[-int(0.2*len(w_bins)):], test_y,  color='black')\n",
    "plt.scatter(w_bins_orig[-int(0.2*len(w_bins)):], preds, color='blue')\n",
    "\n",
    "plt.xticks(())\n",
    "plt.yticks(())\n",
    "\n",
    "plt.show()"
   ]
  },
  {
   "cell_type": "markdown",
   "metadata": {},
   "source": [
    "### decision tree"
   ]
  },
  {
   "cell_type": "code",
   "execution_count": 1163,
   "metadata": {},
   "outputs": [],
   "source": [
    "dt = tree.DecisionTreeRegressor(max_depth=3)"
   ]
  },
  {
   "cell_type": "code",
   "execution_count": 1164,
   "metadata": {},
   "outputs": [
    {
     "data": {
      "text/plain": [
       "DecisionTreeRegressor(ccp_alpha=0.0, criterion='mse', max_depth=3,\n",
       "                      max_features=None, max_leaf_nodes=None,\n",
       "                      min_impurity_decrease=0.0, min_impurity_split=None,\n",
       "                      min_samples_leaf=1, min_samples_split=2,\n",
       "                      min_weight_fraction_leaf=0.0, presort='deprecated',\n",
       "                      random_state=None, splitter='best')"
      ]
     },
     "execution_count": 1164,
     "metadata": {},
     "output_type": "execute_result"
    }
   ],
   "source": [
    "dt.fit(train_x, train_y)"
   ]
  },
  {
   "cell_type": "code",
   "execution_count": 1165,
   "metadata": {},
   "outputs": [
    {
     "data": {
      "text/plain": [
       "0.45914886448453607"
      ]
     },
     "execution_count": 1165,
     "metadata": {},
     "output_type": "execute_result"
    }
   ],
   "source": [
    "dt.score(test_x, test_y)"
   ]
  },
  {
   "cell_type": "markdown",
   "metadata": {},
   "source": [
    "### random forest"
   ]
  },
  {
   "cell_type": "code",
   "execution_count": 1166,
   "metadata": {},
   "outputs": [],
   "source": [
    "rf = ensemble.RandomForestRegressor(max_depth=2)"
   ]
  },
  {
   "cell_type": "code",
   "execution_count": 1167,
   "metadata": {},
   "outputs": [
    {
     "data": {
      "text/plain": [
       "RandomForestRegressor(bootstrap=True, ccp_alpha=0.0, criterion='mse',\n",
       "                      max_depth=2, max_features='auto', max_leaf_nodes=None,\n",
       "                      max_samples=None, min_impurity_decrease=0.0,\n",
       "                      min_impurity_split=None, min_samples_leaf=1,\n",
       "                      min_samples_split=2, min_weight_fraction_leaf=0.0,\n",
       "                      n_estimators=100, n_jobs=None, oob_score=False,\n",
       "                      random_state=None, verbose=0, warm_start=False)"
      ]
     },
     "execution_count": 1167,
     "metadata": {},
     "output_type": "execute_result"
    }
   ],
   "source": [
    "rf.fit(train_x, train_y)"
   ]
  },
  {
   "cell_type": "code",
   "execution_count": 1168,
   "metadata": {},
   "outputs": [
    {
     "data": {
      "text/plain": [
       "0.5600924404712233"
      ]
     },
     "execution_count": 1168,
     "metadata": {},
     "output_type": "execute_result"
    }
   ],
   "source": [
    "rf.score(test_x, test_y)"
   ]
  },
  {
   "cell_type": "code",
   "execution_count": null,
   "metadata": {},
   "outputs": [],
   "source": []
  }
 ],
 "metadata": {
  "kernelspec": {
   "display_name": "Python 3",
   "language": "python",
   "name": "python3"
  },
  "language_info": {
   "codemirror_mode": {
    "name": "ipython",
    "version": 3
   },
   "file_extension": ".py",
   "mimetype": "text/x-python",
   "name": "python",
   "nbconvert_exporter": "python",
   "pygments_lexer": "ipython3",
   "version": "3.7.7"
  }
 },
 "nbformat": 4,
 "nbformat_minor": 4
}
